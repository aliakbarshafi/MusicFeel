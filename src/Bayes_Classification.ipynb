{
 "cells": [
  {
   "cell_type": "markdown",
   "metadata": {},
   "source": [
    "### Preprocessing"
   ]
  },
  {
   "cell_type": "code",
   "execution_count": 1,
   "metadata": {},
   "outputs": [
    {
     "data": {
      "text/html": [
       "<div>\n",
       "<style scoped>\n",
       "    .dataframe tbody tr th:only-of-type {\n",
       "        vertical-align: middle;\n",
       "    }\n",
       "\n",
       "    .dataframe tbody tr th {\n",
       "        vertical-align: top;\n",
       "    }\n",
       "\n",
       "    .dataframe thead th {\n",
       "        text-align: right;\n",
       "    }\n",
       "</style>\n",
       "<table border=\"1\" class=\"dataframe\">\n",
       "  <thead>\n",
       "    <tr style=\"text-align: right;\">\n",
       "      <th></th>\n",
       "      <th>file</th>\n",
       "      <th>artist</th>\n",
       "      <th>title</th>\n",
       "      <th>year</th>\n",
       "      <th>lyrics</th>\n",
       "      <th>mood</th>\n",
       "    </tr>\n",
       "  </thead>\n",
       "  <tbody>\n",
       "    <tr>\n",
       "      <th>0</th>\n",
       "      <td>TRBFHQG128F93092E5.h5</td>\n",
       "      <td>Donnie McClurkin</td>\n",
       "      <td>Psalm 27</td>\n",
       "      <td>2000</td>\n",
       "      <td>One thing have I desired up the Lord\\r\\r\\r\\r\\n...</td>\n",
       "      <td>happy</td>\n",
       "    </tr>\n",
       "    <tr>\n",
       "      <th>1</th>\n",
       "      <td>TRAKWXS128F930F798.h5</td>\n",
       "      <td>Lollipop Lust Kill</td>\n",
       "      <td>No Answer (Outro)</td>\n",
       "      <td>2002</td>\n",
       "      <td>Though I heard you say you love me\\r\\r\\r\\r\\nIt...</td>\n",
       "      <td>sad</td>\n",
       "    </tr>\n",
       "    <tr>\n",
       "      <th>2</th>\n",
       "      <td>TRASWIV128E0788A84.h5</td>\n",
       "      <td>The Smashing Pumpkins</td>\n",
       "      <td>Real Love</td>\n",
       "      <td>2000</td>\n",
       "      <td>Fall in to the century of supersonic cross\\r\\r...</td>\n",
       "      <td>happy</td>\n",
       "    </tr>\n",
       "    <tr>\n",
       "      <th>3</th>\n",
       "      <td>TRAYTDZ128F93146E3.h5</td>\n",
       "      <td>Stevie Ray Vaughan And Double Trouble</td>\n",
       "      <td>Mary Had A Little Lamb</td>\n",
       "      <td>1988</td>\n",
       "      <td>Mary had a little lamb\\r\\r\\r\\r\\nIt's fleece wa...</td>\n",
       "      <td>happy</td>\n",
       "    </tr>\n",
       "    <tr>\n",
       "      <th>4</th>\n",
       "      <td>TRAROPS128F92F09A5.h5</td>\n",
       "      <td>Carl Belew</td>\n",
       "      <td>Am I That Easy To Forget</td>\n",
       "      <td>1959</td>\n",
       "      <td>Am I that easy to forget?\\r\\r\\r\\r\\n\\r\\r\\r\\r\\nY...</td>\n",
       "      <td>sad</td>\n",
       "    </tr>\n",
       "  </tbody>\n",
       "</table>\n",
       "</div>"
      ],
      "text/plain": [
       "                    file                                 artist  \\\n",
       "0  TRBFHQG128F93092E5.h5                       Donnie McClurkin   \n",
       "1  TRAKWXS128F930F798.h5                     Lollipop Lust Kill   \n",
       "2  TRASWIV128E0788A84.h5                  The Smashing Pumpkins   \n",
       "3  TRAYTDZ128F93146E3.h5  Stevie Ray Vaughan And Double Trouble   \n",
       "4  TRAROPS128F92F09A5.h5                             Carl Belew   \n",
       "\n",
       "                      title  year  \\\n",
       "0                  Psalm 27  2000   \n",
       "1         No Answer (Outro)  2002   \n",
       "2                 Real Love  2000   \n",
       "3    Mary Had A Little Lamb  1988   \n",
       "4  Am I That Easy To Forget  1959   \n",
       "\n",
       "                                              lyrics   mood  \n",
       "0  One thing have I desired up the Lord\\r\\r\\r\\r\\n...  happy  \n",
       "1  Though I heard you say you love me\\r\\r\\r\\r\\nIt...    sad  \n",
       "2  Fall in to the century of supersonic cross\\r\\r...  happy  \n",
       "3  Mary had a little lamb\\r\\r\\r\\r\\nIt's fleece wa...  happy  \n",
       "4  Am I that easy to forget?\\r\\r\\r\\r\\n\\r\\r\\r\\r\\nY...    sad  "
      ]
     },
     "execution_count": 1,
     "metadata": {},
     "output_type": "execute_result"
    }
   ],
   "source": [
    "import pandas as pd\n",
    "df_train = pd.read_csv('../Data/training.csv')\n",
    "df_test= pd.read_csv('../Data/validation.csv')\n",
    "df_train.head()"
   ]
  },
  {
   "cell_type": "markdown",
   "metadata": {},
   "source": [
    "#### Label Encoder\n"
   ]
  },
  {
   "cell_type": "code",
   "execution_count": 2,
   "metadata": {},
   "outputs": [
    {
     "name": "stdout",
     "output_type": "stream",
     "text": [
      "Original: ['happy' 'sad' 'happy' 'happy' 'sad'] ...\n",
      "Encoded: [0 1 0 0 1] ...\n"
     ]
    }
   ],
   "source": [
    "from sklearn.preprocessing import LabelEncoder\n",
    "import numpy as np\n",
    "\n",
    "X_train = df_train['lyrics'].values \n",
    "y_train = df_train['mood'].values\n",
    "\n",
    "X_test = df_test['lyrics'].values \n",
    "y_test = df_test['mood'].values\n",
    "\n",
    "\n",
    "print('Original: %s ...' %y_train[:5])\n",
    "\n",
    "le_train = LabelEncoder()\n",
    "le_train.fit(y_train)\n",
    "y_train = le_train.transform(y_train)\n",
    "\n",
    "le_test = LabelEncoder()\n",
    "le_test.fit(y_test)\n",
    "y_test=le_test.transform(y_test)\n",
    "\n",
    "print('Encoded: %s ...' %y_train[:5])"
   ]
  },
  {
   "cell_type": "markdown",
   "metadata": {},
   "source": [
    "#### Reading the Stop words from English Language"
   ]
  },
  {
   "cell_type": "code",
   "execution_count": 3,
   "metadata": {},
   "outputs": [
    {
     "name": "stdout",
     "output_type": "stream",
     "text": [
      "stop words ['i', 'me', 'my', 'myself', 'we'] ...\n"
     ]
    }
   ],
   "source": [
    "with open('../stopwords.txt', 'r') as infile:\n",
    "    stop_words = infile.read().splitlines()\n",
    "print('stop words %s ...' %stop_words[:5])"
   ]
  },
  {
   "cell_type": "markdown",
   "metadata": {},
   "source": [
    "### Transform texts into bag of words models - Trying different tokenizers"
   ]
  },
  {
   "cell_type": "code",
   "execution_count": 4,
   "metadata": {},
   "outputs": [],
   "source": [
    "from nltk.stem.porter import PorterStemmer\n",
    "from nltk.stem.snowball import EnglishStemmer\n",
    "\n",
    "\n",
    "\"\"\"\n",
    "The Porter stemming algorithm (or ‘Porter stemmer’) is a process for removing the commoner morphological and inflexional \n",
    "endings from words in English. Its main use is as part of a term normalisation process that is usually done when \n",
    "setting up Information Retrieval systems.\n",
    "\n",
    "Snowball Stemmer: https://snowballstem.org/algorithms/\n",
    "\n",
    "\"\"\"\n",
    "\n",
    "porter = PorterStemmer()\n",
    "snowball = EnglishStemmer()\n",
    "\n",
    "# raw words\n",
    "tokenizer = lambda text: text.split()\n",
    "\n",
    "# words after Porter stemming \n",
    "tokenizer_porter = lambda text: [porter.stem(word) for word in text.split()]\n",
    "\n",
    "# Words after Snowball stemming\n",
    "tokenizer_snowball = lambda text: [snowball.stem(word) for word in text.split()]"
   ]
  },
  {
   "cell_type": "markdown",
   "metadata": {},
   "source": [
    "### Checking the vocabulary size"
   ]
  },
  {
   "cell_type": "code",
   "execution_count": 5,
   "metadata": {},
   "outputs": [],
   "source": [
    "import re\n",
    "from sklearn.feature_extraction.text import CountVectorizer\n",
    "from sklearn.feature_extraction.text import TfidfVectorizer\n",
    "from sklearn.pipeline import Pipeline\n",
    "\n",
    "\n",
    "vector_1 = CountVectorizer(binary=False,\n",
    "                         stop_words=stop_words,\n",
    "                         ngram_range=(1,1),\n",
    "                         preprocessor=lambda text: re.sub('[^a-zA-Z]', ' ', text.lower()),   # [^a-zA-Z]: Anything except a..z and A..Z\n",
    "                         tokenizer=tokenizer)                                                # ' ': replaced with nothing\n",
    "                                                                                             # text.lower : in this string\n",
    "                 \n",
    "vector_2 = CountVectorizer(binary=False,\n",
    "                         stop_words=stop_words,\n",
    "                         ngram_range=(1,1),\n",
    "                         preprocessor=lambda text: re.sub('[^a-zA-Z]', ' ', text.lower()),\n",
    "                         tokenizer=tokenizer_porter)\n",
    "    \n",
    "vector_3 = CountVectorizer(binary=False,\n",
    "                         stop_words=stop_words,\n",
    "                         ngram_range=(1,1),\n",
    "                         preprocessor=lambda text: re.sub('[^a-zA-Z]', ' ', text.lower()),\n",
    "                         tokenizer=tokenizer_snowball)  \n",
    "\n",
    "vector_4 = TfidfVectorizer(binary=False,\n",
    "                         stop_words=stop_words,\n",
    "                         ngram_range=(1,1),\n",
    "                         preprocessor=lambda text: re.sub('[^a-zA-Z]', ' ', text.lower()),\n",
    "                         tokenizer=tokenizer)\n",
    "\n",
    "vector_5 = TfidfVectorizer(binary=False,\n",
    "                         stop_words=stop_words,\n",
    "                         ngram_range=(1,1),\n",
    "                         preprocessor=lambda text: re.sub('[^a-zA-Z]', ' ', text.lower()),\n",
    "                         tokenizer=tokenizer_porter)\n",
    "    \n",
    "vector_6 = TfidfVectorizer(binary=False,\n",
    "                         stop_words=stop_words,\n",
    "                         ngram_range=(1,1),\n",
    "                         preprocessor=lambda text: re.sub('[^a-zA-Z]', ' ', text.lower()),\n",
    "                         tokenizer=tokenizer_snowball)"
   ]
  },
  {
   "cell_type": "code",
   "execution_count": 6,
   "metadata": {},
   "outputs": [],
   "source": [
    "from sklearn.naive_bayes import MultinomialNB\n",
    "from sklearn.naive_bayes import BernoulliNB\n",
    "\n",
    "\"\"\"\n",
    "\n",
    "Pipelines are used to Sequentially apply a list of transforms and a final estimator. \n",
    "Intermediate steps of pipeline must implement fit and transform methods. \n",
    "Final estimator implements the fit.\n",
    "\"\"\"\n",
    "\n",
    "pipelines_BernoulliNB = []\n",
    "pipelines_MultinomialNB= []\n",
    "\n",
    "vectorizers = [vector_1, vector_2, vector_3, vector_4, vector_5, vector_6]\n",
    "for v in vectorizers:\n",
    "    pipelines_BernoulliNB.append(Pipeline([('vect', v),\n",
    "                                ('clf', BernoulliNB())]))\n",
    "    \n",
    "for v in vectorizers:\n",
    "    pipelines_MultinomialNB.append(Pipeline([('vect', v),\n",
    "                                ('clf', MultinomialNB())]))"
   ]
  },
  {
   "cell_type": "code",
   "execution_count": 7,
   "metadata": {},
   "outputs": [
    {
     "name": "stdout",
     "output_type": "stream",
     "text": [
      "Vocabulary sizes\n",
      "\n",
      "CountVec: 8188\n",
      "CountVec porter: 6282\n",
      "CountVec snowball: 6253\n",
      "TfidfVec: 8188\n",
      "TfidfVec porter: 6282\n",
      "TfidfVec snowball: 6253\n"
     ]
    }
   ],
   "source": [
    "print('Vocabulary sizes\\n')\n",
    "labels = ['CountVec', 'CountVec porter', 'CountVec snowball','TfidfVec', 'TfidfVec porter', 'TfidfVec snowball']\n",
    "\n",
    "for label, v in zip(labels, vectorizers):\n",
    "    v.fit(X_train)\n",
    "    print('%s: %s' % (label, len(v.vocabulary_)))"
   ]
  },
  {
   "cell_type": "markdown",
   "metadata": {},
   "source": [
    "### Selecting Models"
   ]
  },
  {
   "cell_type": "code",
   "execution_count": 8,
   "metadata": {},
   "outputs": [
    {
     "name": "stderr",
     "output_type": "stream",
     "text": [
      "C:\\Users\\Ali\\Anaconda3\\lib\\site-packages\\sklearn\\cross_validation.py:41: DeprecationWarning: This module was deprecated in version 0.18 in favor of the model_selection module into which all the refactored classes and functions are moved. Also note that the interface of the new CV iterators are different from that of this module. This module will be removed in 0.20.\n",
      "  \"This module will be removed in 0.20.\", DeprecationWarning)\n"
     ]
    },
    {
     "name": "stdout",
     "output_type": "stream",
     "text": [
      "clf 1, CountVec_BernoulliNB: 71.97374551971325\n",
      "clf 2, CountVec porter_BernoulliNB: 71.70403225806452\n",
      "clf 3, CountVec snowball_BernoulliNB: 71.8736559139785\n",
      "clf 4, TfidfVec_BernoulliNB: 71.97374551971325\n",
      "clf 5, TfidfVec porter_BernoulliNB: 71.70403225806452\n",
      "clf 6, TfidfVec snowball_BernoulliNB: 71.8736559139785\n",
      "clf 1, CountVec_MultinomialNB: 72.93158602150538\n",
      "clf 2, CountVec porter_MultinomialNB: 72.04448924731183\n",
      "clf 3, CountVec snowball_MultinomialNB: 72.47795698924732\n",
      "clf 4, TfidfVec_MultinomialNB: 74.06021505376344\n",
      "clf 5, TfidfVec porter_MultinomialNB: 74.54883512544802\n",
      "clf 6, TfidfVec snowball_MultinomialNB: 74.6478494623656\n"
     ]
    }
   ],
   "source": [
    "from sklearn import metrics\n",
    "from sklearn import cross_validation\n",
    "from sklearn.naive_bayes import MultinomialNB\n",
    "from sklearn.naive_bayes import BernoulliNB\n",
    "\n",
    "\"\"\"\n",
    "The multinomial Naive Bayes classifier is suitable for classification with discrete features \n",
    "(e.g., word counts for text classification). The multinomial distribution normally requires integer feature counts. \n",
    "However, in practice, fractional counts such as tf-idf may also work.\n",
    "\n",
    "While MultinomialNB works with occurrence counts, BernoulliNB is designed for binary/boolean features.\n",
    "\n",
    "\"\"\"\n",
    "\n",
    "labels = ['CountVec', 'CountVec porter', 'CountVec snowball','TfidfVec', 'TfidfVec porter', 'TfidfVec snowball']\n",
    "\n",
    "\n",
    "dic_BernoulliNB = {'Data':labels,\n",
    "     'ROC AUC (%)':[],}\n",
    "\n",
    "dic_MultinomialNB = {'Data':labels,\n",
    "     'ROC AUC (%)':[],}\n",
    "\n",
    "for i,clf in enumerate(pipelines_BernoulliNB):\n",
    "    scores = cross_validation.cross_val_score(estimator=clf, X=X_train, y=y_train, scoring='roc_auc', cv=10)\n",
    "    print('clf %s, %s_BernoulliNB: %s' % (i+1, labels[i], scores.mean()*100))\n",
    "    dic_BernoulliNB['ROC AUC (%)'].append('%0.2f (+/- %0.2f)' % (scores.mean()*100, scores.std()*100))\n",
    "\n",
    "for i,clf in enumerate(pipelines_MultinomialNB):\n",
    "    scores = cross_validation.cross_val_score(estimator=clf, X=X_train, y=y_train, scoring='roc_auc', cv=10)\n",
    "    print('clf %s, %s_MultinomialNB: %s' % (i+1, labels[i], scores.mean()*100))\n",
    "    dic_MultinomialNB['ROC AUC (%)'].append('%0.2f (+/- %0.2f)' % (scores.mean()*100, scores.std()*100))"
   ]
  },
  {
   "cell_type": "markdown",
   "metadata": {},
   "source": [
    "### Plotting ROC Curve with Hyper parameter tuning"
   ]
  },
  {
   "cell_type": "code",
   "execution_count": 9,
   "metadata": {},
   "outputs": [
    {
     "data": {
      "image/png": "[encoded data removed]",
      "text/plain": [
       "<Figure size 432x288 with 1 Axes>"
      ]
     },
     "metadata": {},
     "output_type": "display_data"
    }
   ],
   "source": [
    "from sklearn.metrics import roc_curve, auc\n",
    "import seaborn as sns\n",
    "import matplotlib.pyplot as plt\n",
    "%matplotlib inline\n",
    "from sklearn.cross_validation import StratifiedKFold\n",
    "from scipy import interp\n",
    "\n",
    "\"\"\"\n",
    "StratifiedKFold: This cross-validation object is a variation of KFold that returns stratified folds. \n",
    "The folds are made by preserving the percentage of samples for each class.\n",
    "\"\"\"\n",
    "\n",
    "\n",
    "sns.set()\n",
    "sns.set_style(\"whitegrid\")\n",
    "\n",
    "forestGreen= '#228B22'\n",
    "tomato= '#FF6347'\n",
    "turqouise='#40E0D0'\n",
    "purple = '#800080'\n",
    "\n",
    "colors = [forestGreen, tomato, purple, turqouise]\n",
    "maxFeatures = [1000,3000,5000,None]\n",
    "labels = ['max features = 1000', \n",
    "          'max features = 3000',\n",
    "          'max features = 5000',\n",
    "          'max features = all',\n",
    "          ]\n",
    "\n",
    "for maxFeat,col,lab in zip(maxFeatures, colors, labels):\n",
    "\n",
    "    classifier = Pipeline([\n",
    "                         ('vect', TfidfVectorizer(\n",
    "                                                  binary=False,\n",
    "                                                  stop_words=stop_words,\n",
    "                                                  tokenizer=tokenizer_porter,\n",
    "                                                  ngram_range=(1,1),\n",
    "                                                  max_features=maxFeat,\n",
    "                                                  )\n",
    "                          ),\n",
    "                         ('clf', MultinomialNB()),\n",
    "                        ])\n",
    "    \n",
    "    mean_tpr = 0.0\n",
    "    mean_fpr = np.linspace(0, 1, 100)\n",
    "    all_tpr = []\n",
    "    crossValidation = StratifiedKFold(y_train, n_folds=10, random_state=1)\n",
    "\n",
    "    for i, (train, test) in enumerate(crossValidation):\n",
    "        probas_ = classifier.fit(X_train[train], y_train[train]).predict_proba(X_train[test])\n",
    "        # Compute ROC curve and area the curve\n",
    "        fpr, tpr, thresholds = roc_curve(y_train[test], probas_[:, 1])\n",
    "        mean_tpr += interp(mean_fpr, fpr, tpr)\n",
    "        mean_tpr[0] = 0.0\n",
    "        roc_auc = auc(fpr, tpr)\n",
    "\n",
    "    mean_tpr /= len(crossValidation)\n",
    "    mean_tpr[-1] = 1.0\n",
    "    mean_auc = auc(mean_fpr, mean_tpr)\n",
    "    plt.plot(mean_fpr, \n",
    "             mean_tpr, \n",
    "             color=col, \n",
    "             label='%s (ROC AUC = %0.2f)' % (lab, mean_auc), \n",
    "             lw=2\n",
    "    )\n",
    "\n",
    "plt.plot([0, 1], [0, 1], '--', color=(0.6, 0.6, 0.6), label='Random Guessing')    \n",
    "plt.xlim([-0.05, 1.05])\n",
    "plt.ylim([-0.05, 1.05])\n",
    "plt.xlabel('False Positive Rate')\n",
    "plt.ylabel('True Positive Rate')\n",
    "plt.title('Multinomial NB, stop words, snowball tokenizer, uni-gram, tf-idf')\n",
    "plt.legend(loc=\"lower right\")\n",
    "plt.savefig('../Images/roc_multinomialNB_maxfeatures.png', dpi=600)\n",
    "plt.show()\n"
   ]
  },
  {
   "cell_type": "code",
   "execution_count": 10,
   "metadata": {},
   "outputs": [
    {
     "data": {
      "image/png": "[encoded data removed]",
      "text/plain": [
       "<Figure size 432x288 with 1 Axes>"
      ]
     },
     "metadata": {},
     "output_type": "display_data"
    }
   ],
   "source": [
    "\"\"\"  min_df: min_df = 0.01 means \"ignore terms that appear in less than 1% of the documents\".\n",
    "     min_df = 5 means \"ignore terms that appear in less than 5 documents\".\n",
    "\n",
    "\"\"\"\n",
    "\n",
    "sns.set()\n",
    "sns.set_style(\"whitegrid\")\n",
    "\n",
    "forestGreen= '#228B22'\n",
    "tomato= '#FF6347'\n",
    "turqouise='#40E0D0'\n",
    "purple = '#800080'\n",
    "\n",
    "colors = [forestGreen, tomato, purple, turqouise]\n",
    "minDF = [1, 0.1, 0.01]\n",
    "labels = ['no cutoff',\n",
    "          'min. df = 0.1', \n",
    "          'min. df = 0.01',\n",
    "          ]\n",
    "\n",
    "\n",
    "for minDF,col,lab in zip(minDF, colors, labels):\n",
    "\n",
    "    classifier = Pipeline([\n",
    "                         ('vect', TfidfVectorizer(\n",
    "                                                  binary=False,\n",
    "                                                  stop_words=stop_words,\n",
    "                                                  tokenizer=tokenizer_porter,\n",
    "                                                  ngram_range=(1,1),\n",
    "                                                  min_df=minDF,\n",
    "                                                  )\n",
    "                          ),\n",
    "                         ('clf', MultinomialNB()),\n",
    "                        ])\n",
    "    \n",
    "    mean_tpr = 0.0\n",
    "    mean_fpr = np.linspace(0, 1, 100)\n",
    "    all_tpr = []\n",
    "    crossValidation = StratifiedKFold(y_train, n_folds=10, random_state=1)\n",
    "\n",
    "    for i, (train, test) in enumerate(crossValidation):\n",
    "        probas_ = classifier.fit(X_train[train], y_train[train]).predict_proba(X_train[test])\n",
    "        # Compute ROC curve and area the curve\n",
    "        fpr, tpr, thresholds = roc_curve(y_train[test], probas_[:, 1])\n",
    "        mean_tpr += interp(mean_fpr, fpr, tpr)\n",
    "        mean_tpr[0] = 0.0\n",
    "        roc_auc = auc(fpr, tpr)\n",
    "\n",
    "    mean_tpr /= len(crossValidation)\n",
    "    mean_tpr[-1] = 1.0\n",
    "    mean_auc = auc(mean_fpr, mean_tpr)\n",
    "    plt.plot(mean_fpr, \n",
    "             mean_tpr, \n",
    "             color=col, \n",
    "             label='%s (ROC AUC = %0.2f)' % (lab, mean_auc), \n",
    "             lw=2\n",
    "    )\n",
    "\n",
    "plt.plot([0, 1], [0, 1], '--', color=(0.6, 0.6, 0.6), label='Random Guessing')    \n",
    "plt.xlim([-0.05, 1.05])\n",
    "plt.ylim([-0.05, 1.05])\n",
    "plt.xlabel('False Positive Rate')\n",
    "plt.ylabel('True Positive Rate')\n",
    "plt.title('Multinomial NB, stop words, snowball tokenizer, uni-gram, tf-idf')\n",
    "plt.legend(loc=\"lower right\")\n",
    "plt.savefig('../Images/roc_multinomialNB_minDF.png', dpi=600)\n",
    "plt.show()"
   ]
  },
  {
   "cell_type": "code",
   "execution_count": 11,
   "metadata": {},
   "outputs": [
    {
     "data": {
      "image/png": "[encoded data removed]",
      "text/plain": [
       "<Figure size 432x288 with 1 Axes>"
      ]
     },
     "metadata": {},
     "output_type": "display_data"
    }
   ],
   "source": [
    "\"\"\"  \n",
    "Additive (Laplace/Lidstone) smoothing parameter (0 for no smoothing).\n",
    "\n",
    "\"\"\"\n",
    "\n",
    "sns.set()\n",
    "sns.set_style(\"whitegrid\")\n",
    "\n",
    "forestGreen= '#228B22'\n",
    "tomato= '#FF6347'\n",
    "turqouise='#40E0D0'\n",
    "purple = '#800080'\n",
    "\n",
    "colors = [forestGreen, tomato, purple, turqouise]\n",
    "alphas = [0.05, 0.1, 1.0, 2.0]\n",
    "labels = ['alpha = 0.05', \n",
    "          'alpha = 0.1',\n",
    "          'alpha = 1.0',\n",
    "          'alpha = 2.0',\n",
    "          ]\n",
    "\n",
    "\n",
    "for alpha,col,lab in zip(alphas, colors, labels):\n",
    "\n",
    "    classifier = Pipeline([\n",
    "                         ('vect', TfidfVectorizer(\n",
    "                                                  binary=False,\n",
    "                                                  stop_words=stop_words,\n",
    "                                                  tokenizer=tokenizer_snowball,\n",
    "                                                  ngram_range=(1,1),\n",
    "                                                  )\n",
    "                          ),\n",
    "                         ('clf', MultinomialNB(alpha=alpha)),\n",
    "                        ])\n",
    "    \n",
    "    mean_tpr = 0.0\n",
    "    mean_fpr = np.linspace(0, 1, 100)\n",
    "    all_tpr = []\n",
    "    crossValidation = StratifiedKFold(y_train, n_folds=10, random_state=1)\n",
    "\n",
    "    for i, (train, test) in enumerate(crossValidation):\n",
    "        probas_ = classifier.fit(X_train[train], y_train[train]).predict_proba(X_train[test])\n",
    "        # Compute ROC curve and area the curve\n",
    "        fpr, tpr, thresholds = roc_curve(y_train[test], probas_[:, 1])\n",
    "        mean_tpr += interp(mean_fpr, fpr, tpr)\n",
    "        mean_tpr[0] = 0.0\n",
    "        roc_auc = auc(fpr, tpr)\n",
    "\n",
    "    mean_tpr /= len(crossValidation)\n",
    "    mean_tpr[-1] = 1.0\n",
    "    mean_auc = auc(mean_fpr, mean_tpr)\n",
    "    plt.plot(mean_fpr, \n",
    "             mean_tpr, \n",
    "             color=col, \n",
    "             label='%s (ROC AUC = %0.2f)' % (lab, mean_auc), \n",
    "             lw=2\n",
    "    )\n",
    "\n",
    "plt.plot([0, 1], [0, 1], '--', color=(0.6, 0.6, 0.6), label='Random Guessing')    \n",
    "plt.xlim([-0.05, 1.05])\n",
    "plt.ylim([-0.05, 1.05])\n",
    "plt.xlabel('False Positive Rate')\n",
    "plt.ylabel('True Positive Rate')\n",
    "plt.title('Multinomial NB, stop words, snowball tokenizer, uni-gram, tf-idf')\n",
    "plt.legend(loc=\"lower right\")\n",
    "plt.savefig('../Images/roc_multinomialNB_alpha.png', dpi=600)\n",
    "plt.show()"
   ]
  },
  {
   "cell_type": "markdown",
   "metadata": {},
   "source": [
    "### Validating Model"
   ]
  },
  {
   "cell_type": "code",
   "execution_count": 12,
   "metadata": {},
   "outputs": [
    {
     "data": {
      "text/plain": [
       "Pipeline(memory=None,\n",
       "     steps=[('vect', TfidfVectorizer(analyzer='word', binary=False, decode_error='strict',\n",
       "        dtype=<class 'numpy.int64'>, encoding='utf-8', input='content',\n",
       "        lowercase=True, max_df=1.0, max_features=None, min_df=1,\n",
       "        ngram_range=(1, 1), norm='l2', preprocessor=None, smooth_idf=True,\n",
       "  ...rue,\n",
       "        vocabulary=None)), ('clf', MultinomialNB(alpha=1.0, class_prior=None, fit_prior=True))])"
      ]
     },
     "execution_count": 12,
     "metadata": {},
     "output_type": "execute_result"
    }
   ],
   "source": [
    "val_CF = Pipeline([\n",
    "                ('vect', TfidfVectorizer(\n",
    "                                         binary=False,\n",
    "                                         stop_words=stop_words,\n",
    "                                         tokenizer=tokenizer_snowball,\n",
    "                                         ngram_range=(1,1),\n",
    "                                         )\n",
    "                ),\n",
    "                ('clf', MultinomialNB(alpha=1.0)),\n",
    "               ])\n",
    "val_CF.fit(X_train, y_train)"
   ]
  },
  {
   "cell_type": "code",
   "execution_count": 13,
   "metadata": {},
   "outputs": [
    {
     "data": {
      "image/png": "[encoded data removed]",
      "text/plain": [
       "<Figure size 432x288 with 1 Axes>"
      ]
     },
     "metadata": {},
     "output_type": "display_data"
    }
   ],
   "source": [
    "import matplotlib as mpl\n",
    "\n",
    "y_valid=y_test\n",
    "X_valid=X_test\n",
    "confusionMatrix = metrics.confusion_matrix(y_valid, val_CF.predict(X_valid))\n",
    "\n",
    "#np.set_printoptions(suppress=True)\n",
    "#mpl.rc(\"figure\", figsize=(4, 2))\n",
    "\n",
    "hm = sns.heatmap(confusionMatrix, \n",
    "            cbar=False,\n",
    "            annot=True, \n",
    "            square=True,\n",
    "            fmt='d',\n",
    "            yticklabels=['happy','sad'],\n",
    "            xticklabels=['happy','sad'],\n",
    "            cmap='Blues'\n",
    "            )\n",
    "plt.title('Confusion matrix - Validation dataset')\n",
    "plt.ylabel('actual class')\n",
    "plt.xlabel('predicted class')\n",
    "plt.tight_layout()\n",
    "plt.savefig('../Images/confmat_validation.png', dpi=600)\n",
    "plt.show()\n"
   ]
  },
  {
   "cell_type": "code",
   "execution_count": 14,
   "metadata": {},
   "outputs": [],
   "source": [
    "from sklearn import metrics\n",
    "\n",
    "# `pos_label` for positive class, since we have sad=1, happy=0\n",
    "\n",
    "acc_scorer = metrics.make_scorer(metrics.accuracy_score, greater_is_better=True)\n",
    "pre_scorer = metrics.make_scorer(metrics.precision_score, greater_is_better=True, pos_label=0)\n",
    "rec_scorer = metrics.make_scorer(metrics.recall_score, greater_is_better=True, pos_label=0)\n",
    "f1_scorer = metrics.make_scorer(metrics.f1_score, greater_is_better=True, pos_label=0)\n",
    "auc_scorer = metrics.make_scorer(metrics.roc_auc_score, greater_is_better=True)"
   ]
  },
  {
   "cell_type": "code",
   "execution_count": 15,
   "metadata": {},
   "outputs": [],
   "source": [
    "labels = ['Training', 'Validation']\n",
    "\n",
    "dic = {'Data':labels,\n",
    "     'ACCURACY (%)':[],\n",
    "     'PRECISION (%)':[],\n",
    "     'RECALL (%)':[],\n",
    "     'F1 (%)':[],\n",
    "     'ROC AUC (%)':[],\n",
    "}\n",
    "\n",
    "\n",
    "dic['ACCURACY (%)'].append(acc_scorer(estimator=val_CF, X=X_train, y_true=y_train))\n",
    "dic['PRECISION (%)'].append(pre_scorer(estimator=val_CF, X=X_train, y_true=y_train))\n",
    "dic['RECALL (%)'].append(rec_scorer(estimator=val_CF, X=X_train, y_true=y_train))\n",
    "dic['F1 (%)'].append(f1_scorer(estimator=val_CF, X=X_train, y_true=y_train))\n",
    "dic['ROC AUC (%)'].append(auc_scorer(estimator=val_CF, X=X_train, y_true=y_train))\n",
    "\n",
    "dic['ACCURACY (%)'].append(acc_scorer(estimator=val_CF, X=X_valid, y_true=y_valid))\n",
    "dic['PRECISION (%)'].append(pre_scorer(estimator=val_CF, X=X_valid, y_true=y_valid))\n",
    "dic['RECALL (%)'].append(rec_scorer(estimator=val_CF, X=X_valid, y_true=y_valid))\n",
    "dic['F1 (%)'].append(f1_scorer(estimator=val_CF, X=X_valid, y_true=y_valid))\n",
    "dic['ROC AUC (%)'].append(auc_scorer(estimator=val_CF, X=X_valid, y_true=y_valid))"
   ]
  },
  {
   "cell_type": "code",
   "execution_count": 16,
   "metadata": {},
   "outputs": [
    {
     "data": {
      "text/html": [
       "<div>\n",
       "<style scoped>\n",
       "    .dataframe tbody tr th:only-of-type {\n",
       "        vertical-align: middle;\n",
       "    }\n",
       "\n",
       "    .dataframe tbody tr th {\n",
       "        vertical-align: top;\n",
       "    }\n",
       "\n",
       "    .dataframe thead th {\n",
       "        text-align: right;\n",
       "    }\n",
       "</style>\n",
       "<table border=\"1\" class=\"dataframe\">\n",
       "  <thead>\n",
       "    <tr style=\"text-align: right;\">\n",
       "      <th></th>\n",
       "      <th>ACCURACY (%)</th>\n",
       "      <th>PRECISION (%)</th>\n",
       "      <th>RECALL (%)</th>\n",
       "      <th>F1 (%)</th>\n",
       "      <th>ROC AUC (%)</th>\n",
       "    </tr>\n",
       "  </thead>\n",
       "  <tbody>\n",
       "    <tr>\n",
       "      <th>Training</th>\n",
       "      <td>86.55</td>\n",
       "      <td>100.0</td>\n",
       "      <td>69.55</td>\n",
       "      <td>82.04</td>\n",
       "      <td>84.77</td>\n",
       "    </tr>\n",
       "    <tr>\n",
       "      <th>Validation</th>\n",
       "      <td>62.00</td>\n",
       "      <td>62.5</td>\n",
       "      <td>12.50</td>\n",
       "      <td>20.83</td>\n",
       "      <td>53.75</td>\n",
       "    </tr>\n",
       "  </tbody>\n",
       "</table>\n",
       "</div>"
      ],
      "text/plain": [
       "            ACCURACY (%)  PRECISION (%)  RECALL (%)  F1 (%)  ROC AUC (%)\n",
       "Training           86.55          100.0       69.55   82.04        84.77\n",
       "Validation         62.00           62.5       12.50   20.83        53.75"
      ]
     },
     "execution_count": 16,
     "metadata": {},
     "output_type": "execute_result"
    }
   ],
   "source": [
    "performance = pd.DataFrame(dic)\n",
    "performance = performance[['ACCURACY (%)', 'PRECISION (%)', 'RECALL (%)', 'F1 (%)', 'ROC AUC (%)']]\n",
    "performance.index=(labels)\n",
    "performance = performance*100\n",
    "performance = np.round(performance, decimals=2)\n",
    "performance"
   ]
  },
  {
   "cell_type": "code",
   "execution_count": 18,
   "metadata": {},
   "outputs": [],
   "source": [
    "performance.to_csv('../Data/MultinomialNM_performance.csv', index_label=False, float_format='%2.2f')"
   ]
  }
 ],
 "metadata": {
  "kernelspec": {
   "display_name": "Python 3",
   "language": "python",
   "name": "python3"
  },
  "language_info": {
   "codemirror_mode": {
    "name": "ipython",
    "version": 3
   },
   "file_extension": ".py",
   "mimetype": "text/x-python",
   "name": "python",
   "nbconvert_exporter": "python",
   "pygments_lexer": "ipython3",
   "version": "3.6.5"
  }
 },
 "nbformat": 4,
 "nbformat_minor": 2
}
