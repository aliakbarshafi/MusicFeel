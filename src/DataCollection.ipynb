{
 "cells": [
  {
   "cell_type": "code",
   "execution_count": 1,
   "metadata": {},
   "outputs": [],
   "source": [
    "import os, sys\n",
    "\n",
    "dir_tree = '../Data/millionsongsubset_full/MillionSongSubset/'\n",
    "\n",
    "for dir_path, dir_names, file_names in os.walk(dir_tree):\n",
    "    for file_name in file_names:\n",
    "        try:\n",
    "            os.rename(os.path.join(dir_path, file_name), os.path.join(dir_tree, file_name))\n",
    "        except OSError:\n",
    "            print (\"Could not move %s \" % os.join(dir_path, file_name))"
   ]
  },
  {
   "cell_type": "code",
   "execution_count": 2,
   "metadata": {},
   "outputs": [],
   "source": [
    "import os\n",
    "import pandas as pd\n",
    "\n",
    "def make_artist_table(base):\n",
    "\n",
    "# Get file names\n",
    "\n",
    "    files = [os.path.join(base,fn) for fn in os.listdir(base) if fn.endswith('.h5')]\n",
    "    data = {'file':[], 'artist':[], 'title':[], 'year':[]}\n",
    "\n",
    "    # Add artist and title data to dictionary\n",
    "    for f in files:\n",
    "        store = pd.HDFStore(f)\n",
    "        #print(store.keys())\n",
    "        year=store.root.musicbrainz.songs.cols.year[0]\n",
    "        title = store.root.metadata.songs.cols.title[0]\n",
    "        artist = store.root.metadata.songs.cols.artist_name[0]\n",
    "        \n",
    "        data['file'].append(os.path.basename(f))\n",
    "        data['title'].append(title.decode(\"utf-8\"))\n",
    "        data['artist'].append(artist.decode(\"utf-8\"))\n",
    "        data['year'].append(year)\n",
    "        store.close()\n",
    "    \n",
    "    # Convert dictionary to pandas DataFrame\n",
    "    df = pd.DataFrame.from_dict(data, orient='columns')\n",
    "    df = df[['file', 'artist', 'title','year']]\n",
    "    return df"
   ]
  },
  {
   "cell_type": "code",
   "execution_count": 3,
   "metadata": {},
   "outputs": [
    {
     "data": {
      "text/html": [
       "<div>\n",
       "<style scoped>\n",
       "    .dataframe tbody tr th:only-of-type {\n",
       "        vertical-align: middle;\n",
       "    }\n",
       "\n",
       "    .dataframe tbody tr th {\n",
       "        vertical-align: top;\n",
       "    }\n",
       "\n",
       "    .dataframe thead th {\n",
       "        text-align: right;\n",
       "    }\n",
       "</style>\n",
       "<table border=\"1\" class=\"dataframe\">\n",
       "  <thead>\n",
       "    <tr style=\"text-align: right;\">\n",
       "      <th></th>\n",
       "      <th>file</th>\n",
       "      <th>artist</th>\n",
       "      <th>title</th>\n",
       "      <th>year</th>\n",
       "    </tr>\n",
       "  </thead>\n",
       "  <tbody>\n",
       "    <tr>\n",
       "      <th>9996</th>\n",
       "      <td>TRBIJMU12903CF892B.h5</td>\n",
       "      <td>Moonspell</td>\n",
       "      <td>The Hanged Man</td>\n",
       "      <td>1998</td>\n",
       "    </tr>\n",
       "    <tr>\n",
       "      <th>9997</th>\n",
       "      <td>TRBIJNF128F14815A7.h5</td>\n",
       "      <td>Danny Williams</td>\n",
       "      <td>The Wonderful World Of The Young</td>\n",
       "      <td>1998</td>\n",
       "    </tr>\n",
       "    <tr>\n",
       "      <th>9998</th>\n",
       "      <td>TRBIJNK128F93093EC.h5</td>\n",
       "      <td>Winston Reedy</td>\n",
       "      <td>Sentimental Man</td>\n",
       "      <td>0</td>\n",
       "    </tr>\n",
       "    <tr>\n",
       "      <th>9999</th>\n",
       "      <td>TRBIJRN128F425F3DD.h5</td>\n",
       "      <td>Myrick \"Freeze\" Guillory</td>\n",
       "      <td>Zydeco In D-Minor</td>\n",
       "      <td>0</td>\n",
       "    </tr>\n",
       "    <tr>\n",
       "      <th>10000</th>\n",
       "      <td>TRBIJYB128F14AE326.h5</td>\n",
       "      <td>Seventh Day Slumber</td>\n",
       "      <td>Shattered Life</td>\n",
       "      <td>2005</td>\n",
       "    </tr>\n",
       "  </tbody>\n",
       "</table>\n",
       "</div>"
      ],
      "text/plain": [
       "                        file                    artist  \\\n",
       "9996   TRBIJMU12903CF892B.h5                 Moonspell   \n",
       "9997   TRBIJNF128F14815A7.h5            Danny Williams   \n",
       "9998   TRBIJNK128F93093EC.h5             Winston Reedy   \n",
       "9999   TRBIJRN128F425F3DD.h5  Myrick \"Freeze\" Guillory   \n",
       "10000  TRBIJYB128F14AE326.h5       Seventh Day Slumber   \n",
       "\n",
       "                                  title  year  \n",
       "9996                     The Hanged Man  1998  \n",
       "9997   The Wonderful World Of The Young  1998  \n",
       "9998                    Sentimental Man     0  \n",
       "9999                  Zydeco In D-Minor     0  \n",
       "10000                    Shattered Life  2005  "
      ]
     },
     "execution_count": 3,
     "metadata": {},
     "output_type": "execute_result"
    }
   ],
   "source": [
    "base = '../Data/millionsongsubset_full/MillionSongSubset/'\n",
    "df = make_artist_table(base)\n",
    "df.tail()"
   ]
  },
  {
   "cell_type": "markdown",
   "metadata": {},
   "source": [
    "#### Now we add a new column for the lyrics to our DataFrame."
   ]
  },
  {
   "cell_type": "code",
   "execution_count": 4,
   "metadata": {},
   "outputs": [
    {
     "data": {
      "text/html": [
       "<div>\n",
       "<style scoped>\n",
       "    .dataframe tbody tr th:only-of-type {\n",
       "        vertical-align: middle;\n",
       "    }\n",
       "\n",
       "    .dataframe tbody tr th {\n",
       "        vertical-align: top;\n",
       "    }\n",
       "\n",
       "    .dataframe thead th {\n",
       "        text-align: right;\n",
       "    }\n",
       "</style>\n",
       "<table border=\"1\" class=\"dataframe\">\n",
       "  <thead>\n",
       "    <tr style=\"text-align: right;\">\n",
       "      <th></th>\n",
       "      <th>file</th>\n",
       "      <th>artist</th>\n",
       "      <th>title</th>\n",
       "      <th>year</th>\n",
       "      <th>lyrics</th>\n",
       "    </tr>\n",
       "  </thead>\n",
       "  <tbody>\n",
       "    <tr>\n",
       "      <th>9996</th>\n",
       "      <td>TRBIJMU12903CF892B.h5</td>\n",
       "      <td>Moonspell</td>\n",
       "      <td>The Hanged Man</td>\n",
       "      <td>1998</td>\n",
       "      <td></td>\n",
       "    </tr>\n",
       "    <tr>\n",
       "      <th>9997</th>\n",
       "      <td>TRBIJNF128F14815A7.h5</td>\n",
       "      <td>Danny Williams</td>\n",
       "      <td>The Wonderful World Of The Young</td>\n",
       "      <td>1998</td>\n",
       "      <td></td>\n",
       "    </tr>\n",
       "    <tr>\n",
       "      <th>9998</th>\n",
       "      <td>TRBIJNK128F93093EC.h5</td>\n",
       "      <td>Winston Reedy</td>\n",
       "      <td>Sentimental Man</td>\n",
       "      <td>0</td>\n",
       "      <td></td>\n",
       "    </tr>\n",
       "    <tr>\n",
       "      <th>9999</th>\n",
       "      <td>TRBIJRN128F425F3DD.h5</td>\n",
       "      <td>Myrick \"Freeze\" Guillory</td>\n",
       "      <td>Zydeco In D-Minor</td>\n",
       "      <td>0</td>\n",
       "      <td></td>\n",
       "    </tr>\n",
       "    <tr>\n",
       "      <th>10000</th>\n",
       "      <td>TRBIJYB128F14AE326.h5</td>\n",
       "      <td>Seventh Day Slumber</td>\n",
       "      <td>Shattered Life</td>\n",
       "      <td>2005</td>\n",
       "      <td></td>\n",
       "    </tr>\n",
       "  </tbody>\n",
       "</table>\n",
       "</div>"
      ],
      "text/plain": [
       "                        file                    artist  \\\n",
       "9996   TRBIJMU12903CF892B.h5                 Moonspell   \n",
       "9997   TRBIJNF128F14815A7.h5            Danny Williams   \n",
       "9998   TRBIJNK128F93093EC.h5             Winston Reedy   \n",
       "9999   TRBIJRN128F425F3DD.h5  Myrick \"Freeze\" Guillory   \n",
       "10000  TRBIJYB128F14AE326.h5       Seventh Day Slumber   \n",
       "\n",
       "                                  title  year lyrics  \n",
       "9996                     The Hanged Man  1998         \n",
       "9997   The Wonderful World Of The Young  1998         \n",
       "9998                    Sentimental Man     0         \n",
       "9999                  Zydeco In D-Minor     0         \n",
       "10000                    Shattered Life  2005         "
      ]
     },
     "execution_count": 4,
     "metadata": {},
     "output_type": "execute_result"
    }
   ],
   "source": [
    "df['lyrics'] = pd.Series('', index=df.index)\n",
    "df.tail()"
   ]
  },
  {
   "cell_type": "markdown",
   "metadata": {},
   "source": [
    " #### Now we webscrap the song lyrics from SongLyrics.com or LyricsMode.com based on the artist and title names in the pandas DataFrame."
   ]
  },
  {
   "cell_type": "code",
   "execution_count": 5,
   "metadata": {},
   "outputs": [],
   "source": [
    "import urllib.parse\n",
    "import urllib, re\n",
    "import urllib.request\n",
    "import urllib3\n",
    "from bs4 import BeautifulSoup\n",
    "import requests\n",
    "          \n",
    "def songlyrics(artist, title):\n",
    "    artist = urllib.parse.quote(artist.lower().replace(' ','-'))\n",
    "    title = urllib.parse.quote(title.lower().replace(' ','-'))\n",
    "    \n",
    "    try:\n",
    "        http = urllib3.PoolManager()\n",
    "        headers = {'User-Agent': 'Mozilla/5.0 (Windows NT 6.1) AppleWebKit/537.36 (KHTML, like Gecko) Chrome/41.0.2228.0 Safari/537.3'}\n",
    "        url = 'http://www.songlyrics.com/%s/%s-lyrics/' % (artist,title)\n",
    "        response = http.request('GET', url,headers)\n",
    "    except:\n",
    "        return 'Cannot connect to songlyrics.com.'\n",
    "    \n",
    "    soup = BeautifulSoup(response.data,\"lxml\")    \n",
    "    \n",
    "    lyrics = soup.findAll(attrs= {'id' : 'songLyricsDiv'})\n",
    "    if not lyrics:\n",
    "        return 'Lyrics not found.'\n",
    "    else:\n",
    "        if str(lyrics[0]).startswith(\"<p class='songLyricsV14 iComment-text' id='songLyricsDiv'></p>\"):\n",
    "\n",
    "            return 'Lyrics not found.'\n",
    "        try:\n",
    "            return re.sub('<[^<]+?>', '', ''.join(str(lyrics[0])))\n",
    "        except:\n",
    "            return 'Cannot parse the lyrics.'\n",
    "        \n",
    "        \n",
    "def lyricsmode(artist, title):\n",
    "    artist = urllib.parse.quote(artist.lower().replace(' ','-'))\n",
    "    title = urllib.parse.quote(title.lower().replace(' ','-'))\n",
    "    \n",
    "    try:\n",
    "        http = urllib3.PoolManager()\n",
    "        headers = {'User-Agent': 'Mozilla/5.0 (Windows NT 6.1) AppleWebKit/537.36 (KHTML, like Gecko) Chrome/41.0.2228.0 Safari/537.3'}\n",
    "        url = 'http://www.lyricsmode.com/lyrics/%s/%s/%s.html' % (artist[0],artist, title)\n",
    "        print(url)\n",
    "        response = http.request('GET', url,headers)\n",
    "        \n",
    "    except:\n",
    "        return 'Cannot connect to lyricsmode.com.'\n",
    "    #lyricsmode places the lyrics in a span with an id of \"lyrics\"\n",
    "\n",
    "    soup = BeautifulSoup(response.data,\"lxml\")    \n",
    "    lyrics = soup.findAll(attrs= {'id' : 'lyrics_text'})\n",
    "    if not lyrics:\n",
    "        return 'Lyrics not found.'\n",
    "    try:\n",
    "        return re.sub('<[^<]+?>', '', ''.join(str(lyrics[0])))\n",
    "    except:\n",
    "        return 'Cannot parse the lyrics.'\n",
    "    \n",
    "    \n",
    "def get_lyrics(artist, title):\n",
    "    lyr = songlyrics(artist, title)\n",
    "    if not lyr:\n",
    "        lyr = lyricsmode(artist, title)\n",
    "    return lyr"
   ]
  },
  {
   "cell_type": "code",
   "execution_count": 6,
   "metadata": {},
   "outputs": [
    {
     "name": "stderr",
     "output_type": "stream",
     "text": [
      "0% [##############################] 100% | ETA: 00:00:00\n",
      "Total time elapsed: 00:52:44\n"
     ]
    }
   ],
   "source": [
    "import pyprind\n",
    "pbar = pyprind.ProgBar(df.shape[0])\n",
    "for row_id in df.index:\n",
    "    artist,title = df.loc[row_id]['artist'], df.loc[row_id]['title']\n",
    "    lyr = songlyrics(artist,title)\n",
    "    df.loc[row_id,'lyrics'] = lyr\n",
    "    pbar.update()"
   ]
  },
  {
   "cell_type": "code",
   "execution_count": 7,
   "metadata": {},
   "outputs": [
    {
     "name": "stdout",
     "output_type": "stream",
     "text": [
      "downloaded Lyrics for 10001 songs\n"
     ]
    },
    {
     "data": {
      "text/html": [
       "<div>\n",
       "<style scoped>\n",
       "    .dataframe tbody tr th:only-of-type {\n",
       "        vertical-align: middle;\n",
       "    }\n",
       "\n",
       "    .dataframe tbody tr th {\n",
       "        vertical-align: top;\n",
       "    }\n",
       "\n",
       "    .dataframe thead th {\n",
       "        text-align: right;\n",
       "    }\n",
       "</style>\n",
       "<table border=\"1\" class=\"dataframe\">\n",
       "  <thead>\n",
       "    <tr style=\"text-align: right;\">\n",
       "      <th></th>\n",
       "      <th>file</th>\n",
       "      <th>artist</th>\n",
       "      <th>title</th>\n",
       "      <th>year</th>\n",
       "      <th>lyrics</th>\n",
       "    </tr>\n",
       "  </thead>\n",
       "  <tbody>\n",
       "    <tr>\n",
       "      <th>0</th>\n",
       "      <td>subset_msd_summary_file.h5</td>\n",
       "      <td>Mastodon</td>\n",
       "      <td>Deep Sea Creature</td>\n",
       "      <td>2001</td>\n",
       "      <td>Knowing right, learning wrong\\nWhat you're fee...</td>\n",
       "    </tr>\n",
       "    <tr>\n",
       "      <th>1</th>\n",
       "      <td>TRAAAAW128F429D538.h5</td>\n",
       "      <td>Casual</td>\n",
       "      <td>I Didn't Mean To</td>\n",
       "      <td>0</td>\n",
       "      <td>Alright I might\\nHave had a little glare when ...</td>\n",
       "    </tr>\n",
       "    <tr>\n",
       "      <th>2</th>\n",
       "      <td>TRAAABD128F429CF47.h5</td>\n",
       "      <td>The Box Tops</td>\n",
       "      <td>Soul Deep</td>\n",
       "      <td>1969</td>\n",
       "      <td>Darlin' I don't know much.\\r\\nI know I love yo...</td>\n",
       "    </tr>\n",
       "    <tr>\n",
       "      <th>3</th>\n",
       "      <td>TRAAADZ128F9348C2E.h5</td>\n",
       "      <td>Sonora Santanera</td>\n",
       "      <td>Amor De Cabaret</td>\n",
       "      <td>0</td>\n",
       "      <td>Sorry, we have no Sonora santanera - Amor de c...</td>\n",
       "    </tr>\n",
       "    <tr>\n",
       "      <th>4</th>\n",
       "      <td>TRAAAEF128F4273421.h5</td>\n",
       "      <td>Adam Ant</td>\n",
       "      <td>Something Girls</td>\n",
       "      <td>1982</td>\n",
       "      <td>Every girl is a something girl\\nEvery girl is ...</td>\n",
       "    </tr>\n",
       "  </tbody>\n",
       "</table>\n",
       "</div>"
      ],
      "text/plain": [
       "                         file            artist              title  year  \\\n",
       "0  subset_msd_summary_file.h5          Mastodon  Deep Sea Creature  2001   \n",
       "1       TRAAAAW128F429D538.h5            Casual   I Didn't Mean To     0   \n",
       "2       TRAAABD128F429CF47.h5      The Box Tops          Soul Deep  1969   \n",
       "3       TRAAADZ128F9348C2E.h5  Sonora Santanera    Amor De Cabaret     0   \n",
       "4       TRAAAEF128F4273421.h5          Adam Ant    Something Girls  1982   \n",
       "\n",
       "                                              lyrics  \n",
       "0  Knowing right, learning wrong\\nWhat you're fee...  \n",
       "1  Alright I might\\nHave had a little glare when ...  \n",
       "2  Darlin' I don't know much.\\r\\nI know I love yo...  \n",
       "3  Sorry, we have no Sonora santanera - Amor de c...  \n",
       "4  Every girl is a something girl\\nEvery girl is ...  "
      ]
     },
     "execution_count": 7,
     "metadata": {},
     "output_type": "execute_result"
    }
   ],
   "source": [
    "print('downloaded Lyrics for %s songs' %sum(df.lyrics!=''))\n",
    "df.head()"
   ]
  },
  {
   "cell_type": "markdown",
   "metadata": {},
   "source": [
    "#### WE now remove the titles from the data for which we could not find the lyrics"
   ]
  },
  {
   "cell_type": "code",
   "execution_count": 8,
   "metadata": {},
   "outputs": [],
   "source": [
    "df=df[~df['lyrics'].str.contains(\"Sorry, we have no\")] \n",
    "df=df[~df['lyrics'].str.contains(\"Lyrics not found.\")]\n",
    "df=df[~df['lyrics'].str.contains(\"We do not have the lyrics for\")]\n",
    "df=df[~df['lyrics'].str.contains(\"Cannot connect to lyricsmode.com.\")]\n",
    "df=df[~df['lyrics'].str.contains(\"Cannot connect to songlyrics.com.\")]\n",
    "df=df[~df['lyrics'].str.match(\"[Instrumental]\")]\n",
    "df=df[~df['lyrics'].str.match(\"(Instrumental)\")]"
   ]
  },
  {
   "cell_type": "code",
   "execution_count": 9,
   "metadata": {},
   "outputs": [],
   "source": [
    "df.to_csv('titles_with_lyrics.csv',index=False)"
   ]
  },
  {
   "cell_type": "markdown",
   "metadata": {},
   "source": [
    "### Language Filter"
   ]
  },
  {
   "cell_type": "markdown",
   "metadata": {},
   "source": [
    "Now, we remove all lyrics that are not in English. Basically, we say that if the song contains more English than non-English words (> 50%), then it is an English song. We use this relatively high cutoff-ratio of 0.5, since a songtext likely contains also names and other special words that are not part of a common English dictionary."
   ]
  },
  {
   "cell_type": "code",
   "execution_count": 10,
   "metadata": {},
   "outputs": [],
   "source": [
    "import nltk\n",
    "#nltk.download()\n",
    "\n",
    "def eng_ratio(text):\n",
    "    ''' Returns the ratio of non-English to English words from a text '''\n",
    "    diff=0\n",
    "    english_vocab = set(w.lower() for w in nltk.corpus.words.words()) \n",
    "    text_vocab = set(w.lower() for w in text.split() if w.lower().isalpha())\n",
    "    unusual = text_vocab.difference(english_vocab)\n",
    "    if len(text_vocab)!=0:\n",
    "        diff = len(unusual)/len(text_vocab)\n",
    "    return diff    "
   ]
  },
  {
   "cell_type": "markdown",
   "metadata": {},
   "source": [
    "### Remove all non-English lyrics"
   ]
  },
  {
   "cell_type": "code",
   "execution_count": 12,
   "metadata": {},
   "outputs": [
    {
     "name": "stdout",
     "output_type": "stream",
     "text": [
      "89 have been removed.\n",
      "2023 songs remain in the dataset.\n"
     ]
    }
   ],
   "source": [
    "before = df.shape[0]\n",
    "for row_id in df.index:\n",
    "    text = df.loc[row_id]['lyrics']\n",
    "    diff = eng_ratio(text)\n",
    "    if diff >= 0.5:\n",
    "        df = df[df.index != row_id]\n",
    "after = df.shape[0]\n",
    "rem = before - after\n",
    "print('%s have been removed.' %rem)\n",
    "print('%s songs remain in the dataset.' %after)"
   ]
  },
  {
   "cell_type": "markdown",
   "metadata": {},
   "source": [
    "#### Backing up the Titles with English Lyrics"
   ]
  },
  {
   "cell_type": "code",
   "execution_count": 14,
   "metadata": {},
   "outputs": [],
   "source": [
    "df.to_csv('df_lyrics_backup.csv', index=False)"
   ]
  },
  {
   "cell_type": "markdown",
   "metadata": {},
   "source": [
    "#### Out of the 2024 songs with english lyrics we chose 650 songs which had the 'year' of release mentioned with them. Also,we manually labelled the mood for them as 'Happy' or 'Sad' based on the lyrics. This data is captured in Data.csv file. Further we randomly divide the data set into training and validation data sets for building our classification models. \n",
    "\n",
    "#### Training Dataset (550 songs): training.csv\n",
    "#### Validation Dataset (100 songs): validation.csv"
   ]
  },
  {
   "cell_type": "code",
   "execution_count": 18,
   "metadata": {},
   "outputs": [],
   "source": [
    "from random import shuffle\n",
    "data=pd.read_csv('Data.csv')\n",
    "indices= data.index.values.tolist()\n",
    "shuffle(indices)\n",
    "training=data.loc[indices[:550]]\n",
    "validation=data.loc[indices[550:650]]\n",
    "training.to_csv('training.csv',index=False)\n",
    "validation.to_csv('validation.csv', index=False)"
   ]
  }
 ],
 "metadata": {
  "kernelspec": {
   "display_name": "Python 3",
   "language": "python",
   "name": "python3"
  },
  "language_info": {
   "codemirror_mode": {
    "name": "ipython",
    "version": 3
   },
   "file_extension": ".py",
   "mimetype": "text/x-python",
   "name": "python",
   "nbconvert_exporter": "python",
   "pygments_lexer": "ipython3",
   "version": "3.6.5"
  }
 },
 "nbformat": 4,
 "nbformat_minor": 2
}
